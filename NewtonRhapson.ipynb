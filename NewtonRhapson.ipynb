{
  "nbformat": 4,
  "nbformat_minor": 0,
  "metadata": {
    "colab": {
      "name": "Untitled3.ipynb",
      "provenance": [],
      "authorship_tag": "ABX9TyNYlTNqlXGd0DbxKjmai0H3",
      "include_colab_link": true
    },
    "kernelspec": {
      "name": "python3",
      "display_name": "Python 3"
    }
  },
  "cells": [
    {
      "cell_type": "markdown",
      "metadata": {
        "id": "view-in-github",
        "colab_type": "text"
      },
      "source": [
        "<a href=\"https://colab.research.google.com/github/mauricio-hack/BiseccionPython/blob/master/NewtonRhapson.ipynb\" target=\"_parent\"><img src=\"https://colab.research.google.com/assets/colab-badge.svg\" alt=\"Open In Colab\"/></a>"
      ]
    },
    {
      "cell_type": "markdown",
      "metadata": {
        "id": "glNmbfJXsefi",
        "colab_type": "text"
      },
      "source": [
        "**Metodo newton Rhapson**"
      ]
    },
    {
      "cell_type": "code",
      "metadata": {
        "id": "hDqhmHRIsod6",
        "colab_type": "code",
        "colab": {
          "base_uri": "https://localhost:8080/",
          "height": 119
        },
        "outputId": "0b10ecd2-d885-435f-c735-7920ce4f8771"
      },
      "source": [
        "#programa: newton rhapson\n",
        "#funcion: calcular la raiz de funciones trascendentes o algebraicas \n",
        "import sympy as sy\n",
        "#x es un simbolo\n",
        "x=sy.symbols('x')\n",
        "#funcion \n",
        "funcion=sy.exp(-x)-x\n",
        "#primera derivada de la funcion\n",
        "derivada=sy.diff(funcion,x)\n",
        "#varibles\n",
        "#xo valor inicial para la convergencia\n",
        "x_0=0\n",
        "xr=x_0\n",
        "#error aproximado relatico porcentual\n",
        "ea=100/100\n",
        "#error estimado\n",
        "es=0.001/100\n",
        "contador=-1\n",
        "print(\"i\\txi\\tea%\")\n",
        "while ea>es:\n",
        "    xra=xr\n",
        "    contador+=1\n",
        "    newton_rhapson=x-(funcion/derivada)\n",
        "    #se subtituye x por xr a continuandicon se evalua\n",
        "    xr=newton_rhapson.evalf(subs={x: xr})\n",
        "    #error aproximado relativo porcentual\n",
        "    ea=sy.Abs(((xr-xra)/xr)*100)\n",
        "    #resultado\n",
        "    print(contador,\"\\t\",xra,\"\\t\",ea)"
      ],
      "execution_count": 2,
      "outputs": [
        {
          "output_type": "stream",
          "text": [
            "i\txi\tea%\n",
            "0 \t 0 \t 100.000000000000\n",
            "1 \t 0.500000000000000 \t 11.7092909766624\n",
            "2 \t 0.566311003197218 \t 0.146728707837439\n",
            "3 \t 0.567143165034862 \t 2.21063919843976e-5\n",
            "4 \t 0.567143290409781 \t 4.89392647060576e-13\n"
          ],
          "name": "stdout"
        }
      ]
    }
  ]
}